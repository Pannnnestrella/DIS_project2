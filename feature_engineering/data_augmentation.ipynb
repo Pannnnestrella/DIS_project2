{
 "cells": [
  {
   "cell_type": "code",
   "execution_count": 1,
   "metadata": {},
   "outputs": [
    {
     "name": "stderr",
     "output_type": "stream",
     "text": [
      "d:\\APPS\\Anaconda\\lib\\site-packages\\pandas\\core\\arrays\\masked.py:60: UserWarning: Pandas requires version '1.3.6' or newer of 'bottleneck' (version '1.3.5' currently installed).\n",
      "  from pandas.core import (\n"
     ]
    }
   ],
   "source": [
    "import requests\n",
    "import pandas as pd\n",
    "from joblib import Parallel, delayed\n",
    "from tqdm import tqdm"
   ]
  },
  {
   "cell_type": "code",
   "execution_count": 2,
   "metadata": {},
   "outputs": [
    {
     "data": {
      "text/plain": [
       "16599"
      ]
     },
     "execution_count": 2,
     "metadata": {},
     "output_type": "execute_result"
    }
   ],
   "source": [
    "books = pd.read_csv(\"books.csv\")\n",
    "len(books)"
   ]
  },
  {
   "cell_type": "code",
   "execution_count": 3,
   "metadata": {},
   "outputs": [
    {
     "name": "stderr",
     "output_type": "stream",
     "text": [
      "100%|██████████| 16599/16599 [2:41:33<00:00,  1.71it/s]  \n"
     ]
    }
   ],
   "source": [
    "def get_value(data, keys, default=None):\n",
    "    \"\"\"\n",
    "    Safely retrieves a nested value from a dictionary.\n",
    "    \n",
    "    Args:\n",
    "        data (dict): The dictionary to retrieve the value from.\n",
    "        keys (list): List of keys representing the nested path to the value.\n",
    "        default: The default value to return if the key path doesn't exist.\n",
    "        \n",
    "    Returns:\n",
    "        The retrieved value or the default value.\n",
    "    \"\"\"\n",
    "    try:\n",
    "        for key in keys:\n",
    "            data = data[key]\n",
    "        return data\n",
    "    except (KeyError, IndexError, TypeError):\n",
    "        return default\n",
    "\n",
    "\n",
    "results = []\n",
    "for index, row in tqdm(books.iterrows(), total=len(books)):\n",
    "        \n",
    "    isbn = str(row[\"ISBN\"])\n",
    "    book_id = row[\"book_id\"]\n",
    "    if len(isbn) > 1:\n",
    "        url = \"https://www.googleapis.com/books/v1/volumes?q=isbn:\" + isbn\n",
    "        response = requests.get(url)\n",
    "        data = response.json()\n",
    "\n",
    "        for item in data.get(\"items\", []):\n",
    "            result = {\n",
    "                \"ISBN\": isbn,\n",
    "                \"book_id\": book_id,\n",
    "                \"title\": get_value(item, [\"volumeInfo\", \"title\"]),\n",
    "                \"subtitle\": get_value(item, [\"volumeInfo\", \"subtitle\"]),\n",
    "                \"authors\": get_value(item, [\"volumeInfo\", \"authors\"], default=[]),\n",
    "                \"publisher\": get_value(item, [\"volumeInfo\", \"publisher\"]),\n",
    "                \"published_date\": get_value(item, [\"volumeInfo\", \"publishedDate\"]),\n",
    "                \"description\": get_value(item, [\"volumeInfo\", \"description\"]),\n",
    "                \"categories\": get_value(item, [\"volumeInfo\", \"categories\"], default=[]),\n",
    "                \"language\": get_value(item, [\"volumeInfo\", \"language\"]),\n",
    "            }\n",
    "            results.append(result)\n",
    "    else:\n",
    "        results.append({\n",
    "            \"ISBN\": isbn,\n",
    "            \"book_id\": book_id,\n",
    "            \"title\": None,\n",
    "            \"subtitle\": None,\n",
    "            \"authors\": [],\n",
    "            \"publisher\": None,\n",
    "            \"published_date\": None,\n",
    "            \"description\": None,\n",
    "            \"categories\": [],\n",
    "            \"language\": None,\n",
    "        })"
   ]
  },
  {
   "cell_type": "code",
   "execution_count": 4,
   "metadata": {},
   "outputs": [],
   "source": [
    "results = pd.DataFrame(results)\n",
    "results.to_csv(\"books_augmented.csv\", index=False, encoding=\"utf-8\")"
   ]
  }
 ],
 "metadata": {
  "kernelspec": {
   "display_name": "base",
   "language": "python",
   "name": "python3"
  },
  "language_info": {
   "codemirror_mode": {
    "name": "ipython",
    "version": 3
   },
   "file_extension": ".py",
   "mimetype": "text/x-python",
   "name": "python",
   "nbconvert_exporter": "python",
   "pygments_lexer": "ipython3",
   "version": "3.10.13"
  }
 },
 "nbformat": 4,
 "nbformat_minor": 2
}
