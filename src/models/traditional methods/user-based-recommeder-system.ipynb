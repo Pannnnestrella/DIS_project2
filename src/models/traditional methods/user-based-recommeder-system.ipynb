{
 "cells": [
  {
   "cell_type": "code",
   "execution_count": 1,
   "id": "94c0a4e3",
   "metadata": {
    "_cell_guid": "b1076dfc-b9ad-4769-8c92-a6c4dae69d19",
    "_uuid": "8f2839f25d086af736a60e9eeb907d3b93b6e0e5",
    "execution": {
     "iopub.execute_input": "2024-12-15T16:16:05.262859Z",
     "iopub.status.busy": "2024-12-15T16:16:05.262465Z",
     "iopub.status.idle": "2024-12-15T16:16:07.840814Z",
     "shell.execute_reply": "2024-12-15T16:16:07.839632Z"
    },
    "papermill": {
     "duration": 2.585101,
     "end_time": "2024-12-15T16:16:07.843389",
     "exception": false,
     "start_time": "2024-12-15T16:16:05.258288",
     "status": "completed"
    },
    "tags": []
   },
   "outputs": [],
   "source": [
    "import pandas as pd\n",
    "import numpy as np\n",
    "from sklearn.metrics.pairwise import cosine_similarity\n",
    "from sklearn.metrics import mean_squared_error\n"
   ]
  },
  {
   "cell_type": "code",
   "execution_count": 2,
   "id": "7a7519fb",
   "metadata": {
    "execution": {
     "iopub.execute_input": "2024-12-15T16:16:07.849846Z",
     "iopub.status.busy": "2024-12-15T16:16:07.849267Z",
     "iopub.status.idle": "2024-12-15T16:16:08.037999Z",
     "shell.execute_reply": "2024-12-15T16:16:08.036971Z"
    },
    "papermill": {
     "duration": 0.194617,
     "end_time": "2024-12-15T16:16:08.040517",
     "exception": false,
     "start_time": "2024-12-15T16:16:07.845900",
     "status": "completed"
    },
    "tags": []
   },
   "outputs": [],
   "source": [
    "# Load datasets\n",
    "train_data = pd.read_csv('/kaggle/input/dis-project-2-recommender-systems-f2024/train.csv')\n",
    "books_data = pd.read_csv('/kaggle/input/dis-project-2-recommender-systems-f2024/books.csv')\n",
    "test_data = pd.read_csv('/kaggle/input/dis-project-2-recommender-systems-f2024/test.csv')"
   ]
  },
  {
   "cell_type": "code",
   "execution_count": 3,
   "id": "350df11e",
   "metadata": {
    "execution": {
     "iopub.execute_input": "2024-12-15T16:16:08.046458Z",
     "iopub.status.busy": "2024-12-15T16:16:08.046063Z",
     "iopub.status.idle": "2024-12-15T16:17:43.943170Z",
     "shell.execute_reply": "2024-12-15T16:17:43.941980Z"
    },
    "papermill": {
     "duration": 95.903201,
     "end_time": "2024-12-15T16:17:43.945966",
     "exception": false,
     "start_time": "2024-12-15T16:16:08.042765",
     "status": "completed"
    },
    "tags": []
   },
   "outputs": [],
   "source": [
    "# Create user-item rating matrix\n",
    "user_item_matrix = train_data.pivot(index='user_id', columns='book_id', values='rating')\n",
    "\n",
    "# Fill missing values\n",
    "global_mean = user_item_matrix.stack().mean()\n",
    "user_item_matrix_filled = user_item_matrix.fillna(global_mean)\n",
    "\n",
    "# Compute user similarity matrix\n",
    "user_similarity = cosine_similarity(user_item_matrix_filled)\n",
    "user_similarity_df = pd.DataFrame(user_similarity, index=user_item_matrix.index, columns=user_item_matrix.index)"
   ]
  },
  {
   "cell_type": "code",
   "execution_count": 4,
   "id": "5d0a499a",
   "metadata": {
    "execution": {
     "iopub.execute_input": "2024-12-15T16:17:43.951944Z",
     "iopub.status.busy": "2024-12-15T16:17:43.951571Z",
     "iopub.status.idle": "2024-12-15T16:17:43.958750Z",
     "shell.execute_reply": "2024-12-15T16:17:43.957699Z"
    },
    "papermill": {
     "duration": 0.012439,
     "end_time": "2024-12-15T16:17:43.960792",
     "exception": false,
     "start_time": "2024-12-15T16:17:43.948353",
     "status": "completed"
    },
    "tags": []
   },
   "outputs": [],
   "source": [
    "# Define rating prediction function\n",
    "def predict_rating(user_id, book_id, user_item_matrix, user_similarity_df):\n",
    "    if user_id not in user_item_matrix.index or book_id not in user_item_matrix.columns:\n",
    "        return global_mean  # Return global mean if user or book is not in the dataset\n",
    "    \n",
    "    user_ratings = user_item_matrix.loc[:, book_id]\n",
    "    user_similarities = user_similarity_df.loc[user_id] if user_id in user_similarity_df.index else pd.Series(0, index=user_item_matrix.index)\n",
    "    \n",
    "    # Filter out users who have rated the book and their similarities\n",
    "    rated_users = user_ratings[user_ratings.notnull()].index\n",
    "    similarities = user_similarities[rated_users]\n",
    "    ratings = user_ratings[rated_users]\n",
    "    \n",
    "    if len(rated_users) == 0:\n",
    "        return global_mean  # Return global mean if no neighbors have rated the book\n",
    "    \n",
    "    # Calculate the weighted average rating\n",
    "    weighted_sum = np.dot(similarities, ratings)\n",
    "    similarity_sum = np.sum(np.abs(similarities))\n",
    "    \n",
    "    if similarity_sum == 0:\n",
    "        return global_mean  # Avoid division by zero\n",
    "    \n",
    "    return weighted_sum / similarity_sum\n"
   ]
  },
  {
   "cell_type": "code",
   "execution_count": 5,
   "id": "875416de",
   "metadata": {
    "execution": {
     "iopub.execute_input": "2024-12-15T16:17:43.966381Z",
     "iopub.status.busy": "2024-12-15T16:17:43.965993Z",
     "iopub.status.idle": "2024-12-15T16:18:17.374041Z",
     "shell.execute_reply": "2024-12-15T16:18:17.373000Z"
    },
    "papermill": {
     "duration": 33.413644,
     "end_time": "2024-12-15T16:18:17.376566",
     "exception": false,
     "start_time": "2024-12-15T16:17:43.962922",
     "status": "completed"
    },
    "tags": []
   },
   "outputs": [],
   "source": [
    "# Generate predictions for the test dataset\n",
    "predictions = []\n",
    "for _, row in test_data.iterrows():\n",
    "    user_id = row['user_id']\n",
    "    book_id = row['book_id']\n",
    "    predicted_rating = predict_rating(user_id, book_id, user_item_matrix, user_similarity_df)\n",
    "    predictions.append({'id': row['id'], 'rating': predicted_rating})\n",
    "\n",
    "# Convert to DataFrame format\n",
    "predictions_df = pd.DataFrame(predictions)\n",
    "\n",
    "# Save the predictions\n",
    "predictions_df.to_csv('/kaggle/working/submission.csv', index=False)"
   ]
  },
  {
   "cell_type": "code",
   "execution_count": null,
   "id": "f2bfd94b",
   "metadata": {
    "papermill": {
     "duration": 0.00184,
     "end_time": "2024-12-15T16:18:17.380896",
     "exception": false,
     "start_time": "2024-12-15T16:18:17.379056",
     "status": "completed"
    },
    "tags": []
   },
   "outputs": [],
   "source": []
  }
 ],
 "metadata": {
  "kaggle": {
   "accelerator": "none",
   "dataSources": [
    {
     "databundleVersionId": 9915979,
     "sourceId": 87197,
     "sourceType": "competition"
    }
   ],
   "dockerImageVersionId": 30786,
   "isGpuEnabled": false,
   "isInternetEnabled": true,
   "language": "python",
   "sourceType": "notebook"
  },
  "kernelspec": {
   "display_name": "Python 3",
   "language": "python",
   "name": "python3"
  },
  "language_info": {
   "codemirror_mode": {
    "name": "ipython",
    "version": 3
   },
   "file_extension": ".py",
   "mimetype": "text/x-python",
   "name": "python",
   "nbconvert_exporter": "python",
   "pygments_lexer": "ipython3",
   "version": "3.10.14"
  },
  "papermill": {
   "default_parameters": {},
   "duration": 135.847402,
   "end_time": "2024-12-15T16:18:18.105343",
   "environment_variables": {},
   "exception": null,
   "input_path": "__notebook__.ipynb",
   "output_path": "__notebook__.ipynb",
   "parameters": {},
   "start_time": "2024-12-15T16:16:02.257941",
   "version": "2.6.0"
  }
 },
 "nbformat": 4,
 "nbformat_minor": 5
}
