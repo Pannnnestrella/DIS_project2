{
 "cells": [
  {
   "cell_type": "code",
   "execution_count": 1,
   "id": "48f859aa",
   "metadata": {
    "_cell_guid": "b1076dfc-b9ad-4769-8c92-a6c4dae69d19",
    "_uuid": "8f2839f25d086af736a60e9eeb907d3b93b6e0e5",
    "execution": {
     "iopub.execute_input": "2024-12-15T15:42:33.007118Z",
     "iopub.status.busy": "2024-12-15T15:42:33.006579Z",
     "iopub.status.idle": "2024-12-15T15:42:35.498424Z",
     "shell.execute_reply": "2024-12-15T15:42:35.497242Z"
    },
    "papermill": {
     "duration": 2.49892,
     "end_time": "2024-12-15T15:42:35.501061",
     "exception": false,
     "start_time": "2024-12-15T15:42:33.002141",
     "status": "completed"
    },
    "tags": []
   },
   "outputs": [],
   "source": [
    "import pandas as pd\n",
    "import numpy as np\n",
    "from sklearn.metrics.pairwise import cosine_similarity\n",
    "from sklearn.model_selection import train_test_split\n",
    "from sklearn.metrics import mean_squared_error"
   ]
  },
  {
   "cell_type": "code",
   "execution_count": 2,
   "id": "2edf761c",
   "metadata": {
    "execution": {
     "iopub.execute_input": "2024-12-15T15:42:35.507351Z",
     "iopub.status.busy": "2024-12-15T15:42:35.506818Z",
     "iopub.status.idle": "2024-12-15T15:42:35.519174Z",
     "shell.execute_reply": "2024-12-15T15:42:35.517989Z"
    },
    "papermill": {
     "duration": 0.018039,
     "end_time": "2024-12-15T15:42:35.521383",
     "exception": false,
     "start_time": "2024-12-15T15:42:35.503344",
     "status": "completed"
    },
    "tags": []
   },
   "outputs": [],
   "source": [
    "# Function to predict user-based rating\n",
    "def predict_user_based_rating(user_id, book_id, user_item_matrix, user_similarity_df):\n",
    "    if book_id not in user_item_matrix.columns:\n",
    "        return np.nan\n",
    "    \n",
    "    user_ratings = user_item_matrix.loc[:, book_id]\n",
    "    user_similarities = user_similarity_df.loc[user_id] if user_id in user_similarity_df.index else pd.Series(0, index=user_item_matrix.index)\n",
    "    \n",
    "    rated_users = user_ratings[user_ratings.notnull()].index\n",
    "    similarities = user_similarities[rated_users]\n",
    "    ratings = user_ratings[rated_users]\n",
    "    \n",
    "    if len(rated_users) == 0:\n",
    "        return np.nan\n",
    "    \n",
    "    weighted_sum = np.dot(similarities, ratings)\n",
    "    similarity_sum = np.sum(np.abs(similarities))\n",
    "    \n",
    "    if similarity_sum == 0:\n",
    "        return np.nan\n",
    "    \n",
    "    return weighted_sum / similarity_sum\n",
    "\n",
    "# Function to predict item-based rating\n",
    "def predict_item_based_rating(user_id, book_id, user_item_matrix, item_similarity_df):\n",
    "    if user_id not in user_item_matrix.index:\n",
    "        return np.nan\n",
    "    \n",
    "    item_ratings = user_item_matrix.loc[user_id]\n",
    "    item_similarities = item_similarity_df.loc[book_id] if book_id in item_similarity_df.index else pd.Series(0, index=user_item_matrix.columns)\n",
    "    \n",
    "    rated_items = item_ratings[item_ratings.notnull()].index\n",
    "    similarities = item_similarities[rated_items]\n",
    "    ratings = item_ratings[rated_items]\n",
    "    \n",
    "    if len(rated_items) == 0:\n",
    "        return np.nan\n",
    "    \n",
    "    weighted_sum = np.dot(similarities, ratings)\n",
    "    similarity_sum = np.sum(np.abs(similarities))\n",
    "    \n",
    "    if similarity_sum == 0:\n",
    "        return np.nan\n",
    "    \n",
    "    return weighted_sum / similarity_sum\n",
    "\n",
    "# Combine user-based and item-based predictions\n",
    "def predict_combined_rating(user_id, book_id, user_item_matrix, user_similarity_df, item_similarity_df, alpha=0.5):\n",
    "    user_based = predict_user_based_rating(user_id, book_id, user_item_matrix, user_similarity_df)\n",
    "    item_based = predict_item_based_rating(user_id, book_id, user_item_matrix, item_similarity_df)\n",
    "    \n",
    "    if np.isnan(user_based) and np.isnan(item_based):\n",
    "        return np.nan\n",
    "    elif np.isnan(user_based):\n",
    "        return item_based\n",
    "    elif np.isnan(item_based):\n",
    "        return user_based\n",
    "    else:\n",
    "        # Combine using weighted average\n",
    "        return alpha * user_based + (1 - alpha) * item_based"
   ]
  },
  {
   "cell_type": "code",
   "execution_count": 3,
   "id": "205af365",
   "metadata": {
    "execution": {
     "iopub.execute_input": "2024-12-15T15:42:35.527143Z",
     "iopub.status.busy": "2024-12-15T15:42:35.526729Z",
     "iopub.status.idle": "2024-12-15T15:45:30.300826Z",
     "shell.execute_reply": "2024-12-15T15:45:30.298469Z"
    },
    "papermill": {
     "duration": 174.783091,
     "end_time": "2024-12-15T15:45:30.306529",
     "exception": false,
     "start_time": "2024-12-15T15:42:35.523438",
     "status": "completed"
    },
    "tags": []
   },
   "outputs": [],
   "source": [
    "train_data = pd.read_csv('/kaggle/input/dis-project-2-recommender-systems-f2024/train.csv')\n",
    "\n",
    "# Create user-item rating matrices using the full training set\n",
    "user_item_matrix_train = train_data.pivot(index='user_id', columns='book_id', values='rating')\n",
    "item_user_matrix_train = user_item_matrix_train.T  # Transpose for item-user matrix\n",
    "\n",
    "# Fill NaN values with 0 only for similarity calculation\n",
    "user_item_filled_train = user_item_matrix_train.apply(lambda row: row.fillna(row.mean()), axis=1)\n",
    "# Fill NaN values with book mean (for users)\n",
    "item_user_filled_train = item_user_matrix_train.apply(lambda row: row.fillna(row.mean()), axis=1)\n",
    "\n",
    "# Calculate user and item similarity matrices\n",
    "user_similarity = cosine_similarity(user_item_filled_train)\n",
    "item_similarity = cosine_similarity(item_user_filled_train)\n",
    "\n",
    "# Convert to DataFrames for easy indexing\n",
    "user_similarity_df = pd.DataFrame(user_similarity, index=user_item_matrix_train.index, columns=user_item_matrix_train.index)\n",
    "item_similarity_df = pd.DataFrame(item_similarity, index=item_user_matrix_train.index, columns=item_user_matrix_train.index)"
   ]
  },
  {
   "cell_type": "code",
   "execution_count": 4,
   "id": "09f35e75",
   "metadata": {
    "execution": {
     "iopub.execute_input": "2024-12-15T15:45:30.318155Z",
     "iopub.status.busy": "2024-12-15T15:45:30.316670Z",
     "iopub.status.idle": "2024-12-15T15:46:30.158973Z",
     "shell.execute_reply": "2024-12-15T15:46:30.157749Z"
    },
    "papermill": {
     "duration": 59.852441,
     "end_time": "2024-12-15T15:46:30.164469",
     "exception": false,
     "start_time": "2024-12-15T15:45:30.312028",
     "status": "completed"
    },
    "tags": []
   },
   "outputs": [
    {
     "name": "stdout",
     "output_type": "stream",
     "text": [
      "The submission file 'submission.csv' has been created.\n"
     ]
    }
   ],
   "source": [
    "test_data = pd.read_csv('/kaggle/input/dis-project-2-recommender-systems-f2024/test.csv')\n",
    "predictions = []\n",
    "alpha_value = 0.3  # You can modify this value as needed\n",
    "\n",
    "for _, row in test_data.iterrows():\n",
    "    user_id = row['user_id']\n",
    "    book_id = row['book_id']\n",
    "    predicted_rating = predict_combined_rating(user_id, book_id, user_item_matrix_train, user_similarity_df, item_similarity_df, alpha=alpha_value)\n",
    "    \n",
    "    if np.isnan(predicted_rating):  # Handle missing predictions with a fallback\n",
    "        predicted_rating = train_data['rating'].mean()  # Use the global mean rating as a fallback\n",
    "    \n",
    "    predictions.append({'id': row['id'], 'rating': predicted_rating})\n",
    "\n",
    "# Convert to DataFrame format and save as submission file\n",
    "predictions_df = pd.DataFrame(predictions)\n",
    "predictions_df.to_csv('/kaggle/working/submission.csv', index=False)\n",
    "\n",
    "print(\"The submission file 'submission.csv' has been created.\")"
   ]
  }
 ],
 "metadata": {
  "kaggle": {
   "accelerator": "none",
   "dataSources": [
    {
     "databundleVersionId": 9915979,
     "sourceId": 87197,
     "sourceType": "competition"
    }
   ],
   "dockerImageVersionId": 30786,
   "isGpuEnabled": false,
   "isInternetEnabled": true,
   "language": "python",
   "sourceType": "notebook"
  },
  "kernelspec": {
   "display_name": "Python 3",
   "language": "python",
   "name": "python3"
  },
  "language_info": {
   "codemirror_mode": {
    "name": "ipython",
    "version": 3
   },
   "file_extension": ".py",
   "mimetype": "text/x-python",
   "name": "python",
   "nbconvert_exporter": "python",
   "pygments_lexer": "ipython3",
   "version": "3.10.14"
  },
  "papermill": {
   "default_parameters": {},
   "duration": 240.825434,
   "end_time": "2024-12-15T15:46:30.989957",
   "environment_variables": {},
   "exception": null,
   "input_path": "__notebook__.ipynb",
   "output_path": "__notebook__.ipynb",
   "parameters": {},
   "start_time": "2024-12-15T15:42:30.164523",
   "version": "2.6.0"
  }
 },
 "nbformat": 4,
 "nbformat_minor": 5
}
