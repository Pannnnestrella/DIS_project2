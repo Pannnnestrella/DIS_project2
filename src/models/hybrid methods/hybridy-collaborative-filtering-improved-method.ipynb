{
 "cells": [
  {
   "cell_type": "markdown",
   "id": "cd74a3bc",
   "metadata": {
    "_cell_guid": "b1076dfc-b9ad-4769-8c92-a6c4dae69d19",
    "_uuid": "8f2839f25d086af736a60e9eeb907d3b93b6e0e5",
    "papermill": {
     "duration": 0.003026,
     "end_time": "2024-12-15T14:44:03.747958",
     "exception": false,
     "start_time": "2024-12-15T14:44:03.744932",
     "status": "completed"
    },
    "tags": []
   },
   "source": [
    "# Collaborative Filtering-Based Recommender System with Hybrid Approach\n",
    "\n",
    "## Project Overview\n",
    "This notebook implements a hybrid collaborative filtering-based recommender system that combines **user-based** and **item-based** methods. The main focus is to predict user ratings for books using a combination of these two methods, adjusted by a threshold-based approach to handle sparse data. Additionally, a fallback mechanism using the global mean rating ensures predictions even for sparse cases.\n",
    "\n",
    "\n",
    "### **Parameter Optimization**\n",
    "   - The parameters of the hybrid model, including `alpha` (weight between user-based and item-based predictions) and thresholds for user and book rating counts, were optimized by testing and validation on the training dataset split into train/test subsets.\n",
    "   - The best-performing parameters were determined based on the lowest **Mean Squared Error (MSE)** on the validation set.\n",
    "\n",
    "### **Kaggle Submission**\n",
    "   - The optimized parameters were used to predict ratings for the test dataset provided in the competition.\n",
    "   - Predictions were saved in the required format and submitted to Kaggle for evaluation.\n",
    "\n",
    "---\n",
    "\n",
    "## Highlights of the Approach\n",
    "1. **Hybrid Model**: Combines user-based and item-based predictions for improved accuracy.\n",
    "2. **Threshold-Based Strategy**: Dynamically chooses the best prediction method based on data availability for users and books.\n",
    "3. **Fallback Mechanism**: Ensures robustness in cases of extreme sparsity by falling back to the global mean rating(less than threshold).\n",
    "4. **Parameter Optimization**: Conducted extensive testing on the train dataset to find the optimal parameters for the model."
   ]
  },
  {
   "cell_type": "markdown",
   "id": "e5166335",
   "metadata": {
    "papermill": {
     "duration": 0.002073,
     "end_time": "2024-12-15T14:44:03.752526",
     "exception": false,
     "start_time": "2024-12-15T14:44:03.750453",
     "status": "completed"
    },
    "tags": []
   },
   "source": []
  },
  {
   "cell_type": "code",
   "execution_count": 1,
   "id": "1978b4eb",
   "metadata": {
    "execution": {
     "iopub.execute_input": "2024-12-15T14:44:03.759034Z",
     "iopub.status.busy": "2024-12-15T14:44:03.758486Z",
     "iopub.status.idle": "2024-12-15T14:44:06.062875Z",
     "shell.execute_reply": "2024-12-15T14:44:06.061835Z"
    },
    "papermill": {
     "duration": 2.310637,
     "end_time": "2024-12-15T14:44:06.065370",
     "exception": false,
     "start_time": "2024-12-15T14:44:03.754733",
     "status": "completed"
    },
    "tags": []
   },
   "outputs": [],
   "source": [
    "import pandas as pd\n",
    "import numpy as np\n",
    "from sklearn.metrics.pairwise import cosine_similarity\n",
    "from sklearn.model_selection import train_test_split\n",
    "from sklearn.metrics import mean_squared_error"
   ]
  },
  {
   "cell_type": "code",
   "execution_count": 2,
   "id": "b347a83e",
   "metadata": {
    "execution": {
     "iopub.execute_input": "2024-12-15T14:44:06.072051Z",
     "iopub.status.busy": "2024-12-15T14:44:06.071509Z",
     "iopub.status.idle": "2024-12-15T14:44:06.082195Z",
     "shell.execute_reply": "2024-12-15T14:44:06.081122Z"
    },
    "papermill": {
     "duration": 0.0166,
     "end_time": "2024-12-15T14:44:06.084537",
     "exception": false,
     "start_time": "2024-12-15T14:44:06.067937",
     "status": "completed"
    },
    "tags": []
   },
   "outputs": [],
   "source": [
    "# Function to predict user-based rating\n",
    "def predict_user_based_rating(user_id, book_id, user_item_matrix, user_similarity_df):\n",
    "    if book_id not in user_item_matrix.columns:\n",
    "        return np.nan\n",
    "    \n",
    "    user_ratings = user_item_matrix.loc[:, book_id]\n",
    "    user_similarities = user_similarity_df.loc[user_id] if user_id in user_similarity_df.index else pd.Series(0, index=user_item_matrix.index)\n",
    "    \n",
    "    rated_users = user_ratings[user_ratings.notnull()].index\n",
    "    similarities = user_similarities[rated_users]\n",
    "    ratings = user_ratings[rated_users]\n",
    "    \n",
    "    if len(rated_users) == 0:\n",
    "        return np.nan\n",
    "    \n",
    "    weighted_sum = np.dot(similarities, ratings)\n",
    "    similarity_sum = np.sum(np.abs(similarities))\n",
    "    \n",
    "    if similarity_sum == 0:\n",
    "        return np.nan\n",
    "    \n",
    "    return weighted_sum / similarity_sum\n",
    "\n",
    "# Function to predict item-based rating\n",
    "def predict_item_based_rating(user_id, book_id, user_item_matrix, item_similarity_df):\n",
    "    if user_id not in user_item_matrix.index:\n",
    "        return np.nan\n",
    "    \n",
    "    item_ratings = user_item_matrix.loc[user_id]\n",
    "    item_similarities = item_similarity_df.loc[book_id] if book_id in item_similarity_df.index else pd.Series(0, index=user_item_matrix.columns)\n",
    "    \n",
    "    rated_items = item_ratings[item_ratings.notnull()].index\n",
    "    similarities = item_similarities[rated_items]\n",
    "    ratings = item_ratings[rated_items]\n",
    "    \n",
    "    if len(rated_items) == 0:\n",
    "        return np.nan\n",
    "    \n",
    "    weighted_sum = np.dot(similarities, ratings)\n",
    "    similarity_sum = np.sum(np.abs(similarities))\n",
    "    \n",
    "    if similarity_sum == 0:\n",
    "        return np.nan\n",
    "    \n",
    "    return weighted_sum / similarity_sum"
   ]
  },
  {
   "cell_type": "code",
   "execution_count": 3,
   "id": "12b39225",
   "metadata": {
    "execution": {
     "iopub.execute_input": "2024-12-15T14:44:06.090976Z",
     "iopub.status.busy": "2024-12-15T14:44:06.090605Z",
     "iopub.status.idle": "2024-12-15T14:44:06.099124Z",
     "shell.execute_reply": "2024-12-15T14:44:06.097957Z"
    },
    "papermill": {
     "duration": 0.014214,
     "end_time": "2024-12-15T14:44:06.101296",
     "exception": false,
     "start_time": "2024-12-15T14:44:06.087082",
     "status": "completed"
    },
    "tags": []
   },
   "outputs": [],
   "source": [
    "# Optimized predict_combined_with_threshold function\n",
    "def predict_combined_with_threshold(\n",
    "    user_id, book_id, user_item_matrix, user_similarity_df, item_similarity_df, \n",
    "    user_rating_counts, book_rating_counts, global_mean, alpha=0.5, threshold_book=5, threshold_user=5\n",
    "):\n",
    "    \"\"\"\n",
    "    Predict rating for a given user and book by combining user-based and item-based collaborative filtering,\n",
    "    with optimizations for efficiency.\n",
    "    \"\"\"\n",
    "    # Retrieve precomputed rating counts for user and book\n",
    "    user_ratings_count = user_rating_counts.get(user_id, 0)\n",
    "    book_ratings_count = book_rating_counts.get(book_id, 0)\n",
    "\n",
    "    # Fallback to global mean if both user and book have insufficient ratings\n",
    "    if user_ratings_count < threshold_user and book_ratings_count < threshold_book:\n",
    "        return global_mean\n",
    "\n",
    "    # Predict using user-based method if book has sufficient ratings\n",
    "    user_based_prediction = (\n",
    "        predict_user_based_rating(user_id, book_id, user_item_matrix, user_similarity_df)\n",
    "        if book_ratings_count >= threshold_book\n",
    "        else np.nan\n",
    "    )\n",
    "\n",
    "    # Predict using item-based method if user has sufficient ratings\n",
    "    item_based_prediction = (\n",
    "        predict_item_based_rating(user_id, book_id, user_item_matrix, item_similarity_df)\n",
    "        if user_ratings_count >= threshold_user\n",
    "        else np.nan\n",
    "    )\n",
    "\n",
    "    # Combine predictions\n",
    "    if np.isnan(user_based_prediction) and np.isnan(item_based_prediction):\n",
    "        return np.nan\n",
    "    elif np.isnan(user_based_prediction):\n",
    "        return item_based_prediction\n",
    "    elif np.isnan(item_based_prediction):\n",
    "        return user_based_prediction\n",
    "    else:\n",
    "        return alpha * user_based_prediction + (1 - alpha) * item_based_prediction"
   ]
  },
  {
   "cell_type": "code",
   "execution_count": 4,
   "id": "44983320",
   "metadata": {
    "execution": {
     "iopub.execute_input": "2024-12-15T14:44:06.107626Z",
     "iopub.status.busy": "2024-12-15T14:44:06.107298Z",
     "iopub.status.idle": "2024-12-15T14:46:56.213404Z",
     "shell.execute_reply": "2024-12-15T14:46:56.212092Z"
    },
    "papermill": {
     "duration": 170.112182,
     "end_time": "2024-12-15T14:46:56.216027",
     "exception": false,
     "start_time": "2024-12-15T14:44:06.103845",
     "status": "completed"
    },
    "tags": []
   },
   "outputs": [],
   "source": [
    "# Load the training data\n",
    "train_data = pd.read_csv('/kaggle/input/dis-project-2-recommender-systems-f2024/train.csv')\n",
    "\n",
    "# Create user-item rating matrices for the training set\n",
    "user_item_matrix_train = train_data.pivot(index='user_id', columns='book_id', values='rating')\n",
    "item_user_matrix_train = user_item_matrix_train.T  # Transpose for item-user matrix\n",
    "\n",
    "# Fill NaN values with user mean (for books)\n",
    "user_item_filled_train = user_item_matrix_train.apply(lambda row: row.fillna(row.mean()), axis=1)\n",
    "# Fill NaN values with book mean (for users)\n",
    "item_user_filled_train = item_user_matrix_train.apply(lambda row: row.fillna(row.mean()), axis=1)\n",
    "\n",
    "# Calculate user and item similarity matrices\n",
    "user_similarity = cosine_similarity(user_item_filled_train)\n",
    "item_similarity = cosine_similarity(item_user_filled_train)\n",
    "\n",
    "# Convert to DataFrames for easy indexing\n",
    "user_similarity_df = pd.DataFrame(user_similarity, index=user_item_matrix_train.index, columns=user_item_matrix_train.index)\n",
    "item_similarity_df = pd.DataFrame(item_similarity, index=item_user_matrix_train.index, columns=item_user_matrix_train.index)"
   ]
  },
  {
   "cell_type": "code",
   "execution_count": 5,
   "id": "1af19e35",
   "metadata": {
    "execution": {
     "iopub.execute_input": "2024-12-15T14:46:56.223190Z",
     "iopub.status.busy": "2024-12-15T14:46:56.222788Z",
     "iopub.status.idle": "2024-12-15T14:47:56.070892Z",
     "shell.execute_reply": "2024-12-15T14:47:56.069483Z"
    },
    "papermill": {
     "duration": 59.857163,
     "end_time": "2024-12-15T14:47:56.075967",
     "exception": false,
     "start_time": "2024-12-15T14:46:56.218804",
     "status": "completed"
    },
    "tags": []
   },
   "outputs": [],
   "source": [
    "test_data = pd.read_csv('/kaggle/input/dis-project-2-recommender-systems-f2024/test.csv')\n",
    "\n",
    "# Precompute global mean rating from the training data\n",
    "\n",
    "# Calculate the number of ratings for each user and book\n",
    "user_rating_counts = user_item_matrix_train.notna().sum(axis=1)  # Number of ratings by each user\n",
    "book_rating_counts = user_item_matrix_train.notna().sum(axis=0)  # Number of ratings for each book\n",
    "\n",
    "low_threshold_book = book_rating_counts[book_rating_counts < 2].index\n",
    "low_threshold_user = user_rating_counts[user_rating_counts < 2].index\n",
    "\n",
    "# Extract ratings where book_id and user_id meet the threshold criteria\n",
    "low_threshold_ratings = user_item_matrix_train.loc[low_threshold_user, low_threshold_book]\n",
    "\n",
    "# Flatten the matrix to consider only the valid ratings (non-NaN values)\n",
    "low_threshold_mean_rating = low_threshold_ratings.stack().mean()\n",
    "\n",
    "# Create a list to store predictions\n",
    "predictions = []\n",
    "alpha_value = 0.3  # You can modify this value as needed\n",
    "# threshold_value = 5  # Minimum number of ratings for threshold logic\n",
    "\n",
    "# Iterate through the test data\n",
    "for _, row in test_data.iterrows():\n",
    "    user_id = row['user_id']\n",
    "    book_id = row['book_id']\n",
    "    \n",
    "    # Predict the rating using the threshold-based function\n",
    "    predicted_rating = predict_combined_with_threshold(\n",
    "        user_id, book_id, user_item_matrix_train, user_similarity_df, item_similarity_df, \n",
    "        user_rating_counts, book_rating_counts, global_mean = low_threshold_mean_rating, alpha=alpha_value, threshold_book=2,threshold_user=2\n",
    "    )\n",
    "    \n",
    "    # Handle missing predictions with a fallback\n",
    "    if np.isnan(predicted_rating):\n",
    "        predicted_rating = global_mean  # Use the global mean rating as a fallback\n",
    "    \n",
    "    # Append the prediction with the corresponding ID\n",
    "    predictions.append({'id': row['id'], 'rating': predicted_rating})\n",
    "\n",
    "# Convert to DataFrame format and save as submission file\n",
    "predictions_df = pd.DataFrame(predictions)\n",
    "predictions_df.to_csv('/kaggle/working/submission.csv', index=False)"
   ]
  }
 ],
 "metadata": {
  "kaggle": {
   "accelerator": "none",
   "dataSources": [
    {
     "databundleVersionId": 9915979,
     "sourceId": 87197,
     "sourceType": "competition"
    }
   ],
   "dockerImageVersionId": 30786,
   "isGpuEnabled": false,
   "isInternetEnabled": true,
   "language": "python",
   "sourceType": "notebook"
  },
  "kernelspec": {
   "display_name": "Python 3",
   "language": "python",
   "name": "python3"
  },
  "language_info": {
   "codemirror_mode": {
    "name": "ipython",
    "version": 3
   },
   "file_extension": ".py",
   "mimetype": "text/x-python",
   "name": "python",
   "nbconvert_exporter": "python",
   "pygments_lexer": "ipython3",
   "version": "3.10.14"
  },
  "papermill": {
   "default_parameters": {},
   "duration": 235.896924,
   "end_time": "2024-12-15T14:47:56.904339",
   "environment_variables": {},
   "exception": null,
   "input_path": "__notebook__.ipynb",
   "output_path": "__notebook__.ipynb",
   "parameters": {},
   "start_time": "2024-12-15T14:44:01.007415",
   "version": "2.6.0"
  }
 },
 "nbformat": 4,
 "nbformat_minor": 5
}
